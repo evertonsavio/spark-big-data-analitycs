{
 "cells": [
  {
   "cell_type": "markdown",
   "metadata": {},
   "source": [
    "### SQL Server Managment Studio /// SQL Server Configuration Manager"
   ]
  },
  {
   "cell_type": "code",
   "execution_count": 1,
   "metadata": {},
   "outputs": [],
   "source": [
    "from pyspark.sql.session import SparkSession"
   ]
  },
  {
   "cell_type": "code",
   "execution_count": 2,
   "metadata": {},
   "outputs": [
    {
     "data": {
      "text/plain": [
       "pyspark.sql.session.SparkSession"
      ]
     },
     "execution_count": 2,
     "metadata": {},
     "output_type": "execute_result"
    }
   ],
   "source": [
    "spark = SparkSession \\\n",
    "    .builder \\\n",
    "    .config(\"spark.driver.extraClassPath\",\"mssql-jdbc-8.2.2.jre8.jar\") \\\n",
    "    .appName(\"Python Spark SQL data source example\") \\\n",
    "    .getOrCreate()\n",
    "\n",
    "type(spark)"
   ]
  },
  {
   "cell_type": "code",
   "execution_count": 3,
   "metadata": {},
   "outputs": [
    {
     "data": {
      "text/plain": [
       "pyspark.sql.dataframe.DataFrame"
      ]
     },
     "execution_count": 3,
     "metadata": {},
     "output_type": "execute_result"
    }
   ],
   "source": [
    "jdbcDF = spark.read.format(\"jdbc\") \\\n",
    "    .option(\"url\", \"jdbc:sqlserver://localhost:1433;databaseName=OPCServiceBus\") \\\n",
    "    .option(\"dbtable\", \"dbo.ServerParameter\") \\\n",
    "    .option(\"user\", \"sa\") \\\n",
    "    .option(\"password\", \"sa\").load()\n",
    "\n",
    "type(jdbcDF)"
   ]
  },
  {
   "cell_type": "code",
   "execution_count": 4,
   "metadata": {},
   "outputs": [
    {
     "name": "stdout",
     "output_type": "stream",
     "text": [
      "root\n",
      " |-- Id: long (nullable = true)\n",
      " |-- Active: boolean (nullable = true)\n",
      " |-- Created: timestamp (nullable = true)\n",
      " |-- Modified: timestamp (nullable = true)\n",
      " |-- NodeNamespaceIndex: short (nullable = true)\n",
      " |-- NodePathRead: string (nullable = true)\n",
      " |-- NodePathWrite: string (nullable = true)\n",
      " |-- Alias: string (nullable = true)\n",
      " |-- Type: string (nullable = true)\n",
      " |-- UserEDV: integer (nullable = true)\n",
      " |-- IdServer: long (nullable = true)\n",
      "\n"
     ]
    }
   ],
   "source": [
    "jdbcDF.printSchema()"
   ]
  },
  {
   "cell_type": "code",
   "execution_count": 5,
   "metadata": {},
   "outputs": [
    {
     "name": "stdout",
     "output_type": "stream",
     "text": [
      "+-------------------+\n",
      "|            Created|\n",
      "+-------------------+\n",
      "|2019-05-22 11:15:00|\n",
      "|2019-05-22 11:15:00|\n",
      "|2019-05-22 11:15:00|\n",
      "|2019-05-22 11:15:00|\n",
      "|2019-05-22 11:15:00|\n",
      "|2019-05-22 11:15:00|\n",
      "|2019-05-22 11:15:00|\n",
      "|2019-05-22 11:15:00|\n",
      "|2019-05-22 11:15:00|\n",
      "|2019-05-22 11:15:00|\n",
      "|2019-05-22 11:15:00|\n",
      "|2019-05-22 11:15:00|\n",
      "|2019-05-22 11:15:00|\n",
      "|2019-05-22 11:15:00|\n",
      "|2019-05-22 11:15:00|\n",
      "|2019-05-22 11:15:00|\n",
      "|2019-05-22 11:15:00|\n",
      "|2019-05-22 11:15:00|\n",
      "|2019-05-22 11:15:00|\n",
      "|2019-05-22 11:15:00|\n",
      "+-------------------+\n",
      "only showing top 20 rows\n",
      "\n"
     ]
    }
   ],
   "source": [
    "jdbcDF.select('Created').show()"
   ]
  }
 ],
 "metadata": {
  "kernelspec": {
   "display_name": "Python 3",
   "language": "python",
   "name": "python3"
  },
  "language_info": {
   "codemirror_mode": {
    "name": "ipython",
    "version": 3
   },
   "file_extension": ".py",
   "mimetype": "text/x-python",
   "name": "python",
   "nbconvert_exporter": "python",
   "pygments_lexer": "ipython3",
   "version": "3.7.7"
  }
 },
 "nbformat": 4,
 "nbformat_minor": 4
}
