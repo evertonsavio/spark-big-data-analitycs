{
 "cells": [
  {
   "cell_type": "code",
   "execution_count": 1,
   "metadata": {},
   "outputs": [],
   "source": [
    "from pyspark.sql import SparkSession"
   ]
  },
  {
   "cell_type": "code",
   "execution_count": 2,
   "metadata": {},
   "outputs": [],
   "source": [
    "spark = SparkSession.builder \\\n",
    "        .appName(\"special\") \\\n",
    "        .getOrCreate()"
   ]
  },
  {
   "cell_type": "code",
   "execution_count": 3,
   "metadata": {},
   "outputs": [
    {
     "data": {
      "text/plain": [
       "pyspark.sql.session.SparkSession"
      ]
     },
     "execution_count": 3,
     "metadata": {},
     "output_type": "execute_result"
    }
   ],
   "source": [
    "type(spark)"
   ]
  },
  {
   "cell_type": "code",
   "execution_count": 4,
   "metadata": {},
   "outputs": [],
   "source": [
    "df = spark.read.csv(\"datasets/titanic.csv\", header=True, sep='\\t', inferSchema=True)"
   ]
  },
  {
   "cell_type": "code",
   "execution_count": 5,
   "metadata": {},
   "outputs": [
    {
     "name": "stdout",
     "output_type": "stream",
     "text": [
      "+-----------+--------+------+--------------------+------+----+-----+-----+----------------+-------+-----+--------+\n",
      "|PassengerId|Survived|Pclass|                Name|   Sex| Age|SibSp|Parch|          Ticket|   Fare|Cabin|Embarked|\n",
      "+-----------+--------+------+--------------------+------+----+-----+-----+----------------+-------+-----+--------+\n",
      "|          1|       0|     3|Braund, Mr. Owen ...|  male|22.0|    1|    0|       A/5 21171|   7.25| null|       S|\n",
      "|          2|       1|     1|Cumings, Mrs. Joh...|female|38.0|    1|    0|        PC 17599|71.2833|  C85|       C|\n",
      "|          3|       1|     3|Heikkinen, Miss. ...|female|26.0|    0|    0|STON/O2. 3101282|  7.925| null|       S|\n",
      "|          4|       1|     1|Futrelle, Mrs. Ja...|female|35.0|    1|    0|          113803|   53.1| C123|       S|\n",
      "|          5|       0|     3|Allen, Mr. Willia...|  male|35.0|    0|    0|          373450|   8.05| null|       S|\n",
      "|          6|       0|     3|    Moran, Mr. James|  male|null|    0|    0|          330877| 8.4583| null|       Q|\n",
      "|          7|       0|     1|McCarthy, Mr. Tim...|  male|54.0|    0|    0|           17463|51.8625|  E46|       S|\n",
      "|          8|       0|     3|Palsson, Master. ...|  male| 2.0|    3|    1|          349909| 21.075| null|       S|\n",
      "|          9|       1|     3|Johnson, Mrs. Osc...|female|27.0|    0|    2|          347742|11.1333| null|       S|\n",
      "|         10|       1|     2|Nasser, Mrs. Nich...|female|14.0|    1|    0|          237736|30.0708| null|       C|\n",
      "|         11|       1|     3|Sandstrom, Miss. ...|female| 4.0|    1|    1|         PP 9549|   16.7|   G6|       S|\n",
      "|         12|       1|     1|Bonnell, Miss. El...|female|58.0|    0|    0|          113783|  26.55| C103|       S|\n",
      "|         13|       0|     3|Saundercock, Mr. ...|  male|20.0|    0|    0|       A/5. 2151|   8.05| null|       S|\n",
      "|         14|       0|     3|Andersson, Mr. An...|  male|39.0|    1|    5|          347082| 31.275| null|       S|\n",
      "|         15|       0|     3|Vestrom, Miss. Hu...|female|14.0|    0|    0|          350406| 7.8542| null|       S|\n",
      "|         16|       1|     2|Hewlett, Mrs. (Ma...|female|55.0|    0|    0|          248706|   16.0| null|       S|\n",
      "|         17|       0|     3|Rice, Master. Eugene|  male| 2.0|    4|    1|          382652| 29.125| null|       Q|\n",
      "|         18|       1|     2|Williams, Mr. Cha...|  male|null|    0|    0|          244373|   13.0| null|       S|\n",
      "|         19|       0|     3|Vander Planke, Mr...|female|31.0|    1|    0|          345763|   18.0| null|       S|\n",
      "|         20|       1|     3|Masselmani, Mrs. ...|female|null|    0|    0|            2649|  7.225| null|       C|\n",
      "+-----------+--------+------+--------------------+------+----+-----+-----+----------------+-------+-----+--------+\n",
      "only showing top 20 rows\n",
      "\n"
     ]
    }
   ],
   "source": [
    "df.show()"
   ]
  },
  {
   "cell_type": "code",
   "execution_count": 6,
   "metadata": {},
   "outputs": [
    {
     "name": "stdout",
     "output_type": "stream",
     "text": [
      "root\n",
      " |-- PassengerId: integer (nullable = true)\n",
      " |-- Survived: integer (nullable = true)\n",
      " |-- Pclass: integer (nullable = true)\n",
      " |-- Name: string (nullable = true)\n",
      " |-- Sex: string (nullable = true)\n",
      " |-- Age: double (nullable = true)\n",
      " |-- SibSp: integer (nullable = true)\n",
      " |-- Parch: integer (nullable = true)\n",
      " |-- Ticket: string (nullable = true)\n",
      " |-- Fare: double (nullable = true)\n",
      " |-- Cabin: string (nullable = true)\n",
      " |-- Embarked: string (nullable = true)\n",
      "\n"
     ]
    }
   ],
   "source": [
    "df.printSchema()"
   ]
  },
  {
   "cell_type": "markdown",
   "metadata": {},
   "source": [
    "### GroupBy"
   ]
  },
  {
   "cell_type": "code",
   "execution_count": 7,
   "metadata": {},
   "outputs": [
    {
     "name": "stdout",
     "output_type": "stream",
     "text": [
      "+------+-----+\n",
      "|   Sex|count|\n",
      "+------+-----+\n",
      "|female|   56|\n",
      "|  male|  100|\n",
      "+------+-----+\n",
      "\n"
     ]
    }
   ],
   "source": [
    "df.groupBy('Sex').count().show()"
   ]
  },
  {
   "cell_type": "code",
   "execution_count": 8,
   "metadata": {},
   "outputs": [
    {
     "name": "stdout",
     "output_type": "stream",
     "text": [
      "+------+----------------+------------------+------------------+------------------+----------+------------------+------------------+\n",
      "|   Sex|avg(PassengerId)|     avg(Survived)|       avg(Pclass)|          avg(Age)|avg(SibSp)|        avg(Parch)|         avg(Fare)|\n",
      "+------+----------------+------------------+------------------+------------------+----------+------------------+------------------+\n",
      "|female|          68.125|0.7142857142857143|2.4642857142857144| 24.46808510638298|     0.875|0.5178571428571429|28.460639285714286|\n",
      "|  male|           84.31|              0.14|               2.4|30.326962025316455|      0.47|              0.33|27.912997999999988|\n",
      "+------+----------------+------------------+------------------+------------------+----------+------------------+------------------+\n",
      "\n"
     ]
    }
   ],
   "source": [
    "df.groupBy('Sex').mean().show()"
   ]
  },
  {
   "cell_type": "code",
   "execution_count": 9,
   "metadata": {},
   "outputs": [
    {
     "name": "stdout",
     "output_type": "stream",
     "text": [
      "+------+------------------+\n",
      "|   sex|          avg(Age)|\n",
      "+------+------------------+\n",
      "|female| 24.46808510638298|\n",
      "|  male|30.326962025316455|\n",
      "+------+------------------+\n",
      "\n"
     ]
    }
   ],
   "source": [
    "df.groupBy('Sex').mean().select([\"sex\", \"avg(Age)\"]).show()"
   ]
  },
  {
   "cell_type": "markdown",
   "metadata": {},
   "source": [
    "### OrderBy"
   ]
  },
  {
   "cell_type": "code",
   "execution_count": 10,
   "metadata": {},
   "outputs": [
    {
     "name": "stdout",
     "output_type": "stream",
     "text": [
      "+-----------+--------+------+--------------------+------+----+-----+-----+------------------+------+-----+--------+\n",
      "|PassengerId|Survived|Pclass|                Name|   Sex| Age|SibSp|Parch|            Ticket|  Fare|Cabin|Embarked|\n",
      "+-----------+--------+------+--------------------+------+----+-----+-----+------------------+------+-----+--------+\n",
      "|        144|       0|     3| Burke, Mr. Jeremiah|  male|19.0|    0|    0|            365222|  6.75| null|       Q|\n",
      "|        130|       0|     3|  Ekstrom, Mr. Johan|  male|45.0|    0|    0|            347061| 6.975| null|       S|\n",
      "|        132|       0|     3|Coelho, Mr. Domin...|  male|20.0|    0|    0|SOTON/O.Q. 3101307|  7.05| null|       S|\n",
      "|        128|       1|     3|Madsen, Mr. Fridt...|  male|24.0|    0|    0|           C 17369|7.1417| null|       S|\n",
      "|         20|       1|     3|Masselmani, Mrs. ...|female|null|    0|    0|              2649| 7.225| null|       C|\n",
      "|         27|       0|     3|Emir, Mr. Farred ...|  male|null|    0|    0|              2631| 7.225| null|       C|\n",
      "|         58|       0|     3| Novel, Mr. Mansouer|  male|28.5|    0|    0|              2697|7.2292| null|       C|\n",
      "|         61|       0|     3|Sirayanian, Mr. O...|  male|22.0|    0|    0|              2669|7.2292| null|       C|\n",
      "|         37|       1|     3|    Mamee, Mr. Hanna|  male|null|    0|    0|              2677|7.2292| null|       C|\n",
      "|          1|       0|     3|Braund, Mr. Owen ...|  male|22.0|    1|    0|         A/5 21171|  7.25| null|       S|\n",
      "|         95|       0|     3|   Coxon, Mr. Daniel|  male|59.0|    0|    0|            364500|  7.25| null|       S|\n",
      "|        155|       0|     3|Olsen, Mr. Ole Ma...|  male|null|    0|    0|         Fa 265302|7.3125| null|       S|\n",
      "|         76|       0|     3|Moen, Mr. Sigurd ...|  male|25.0|    0|    0|            348123|  7.65|F G73|       S|\n",
      "|        107|       1|     3|Salkjelsvik, Miss...|female|21.0|    0|    0|            343120|  7.65| null|       S|\n",
      "|        117|       0|     3|Connors, Mr. Patrick|  male|70.5|    0|    0|            370369|  7.75| null|       Q|\n",
      "|         33|       1|     3|Glynn, Miss. Mary...|female|null|    0|    0|            335677|  7.75| null|       Q|\n",
      "|        127|       0|     3| McMahon, Mr. Martin|  male|null|    0|    0|            370372|  7.75| null|       Q|\n",
      "|         48|       1|     3|O'Driscoll, Miss....|female|null|    0|    0|             14311|  7.75| null|       Q|\n",
      "|        142|       1|     3|Nysten, Miss. Ann...|female|22.0|    0|    0|            347081|  7.75| null|       S|\n",
      "|        108|       1|     3|Moss, Mr. Albert ...|  male|null|    0|    0|            312991| 7.775| null|       S|\n",
      "+-----------+--------+------+--------------------+------+----+-----+-----+------------------+------+-----+--------+\n",
      "only showing top 20 rows\n",
      "\n"
     ]
    }
   ],
   "source": [
    "df.orderBy(\"Fare\").show()"
   ]
  },
  {
   "cell_type": "code",
   "execution_count": 11,
   "metadata": {},
   "outputs": [
    {
     "name": "stdout",
     "output_type": "stream",
     "text": [
      "+-----------+--------+------+--------------------+------+----+-----+-----+------------+--------+-----------+--------+\n",
      "|PassengerId|Survived|Pclass|                Name|   Sex| Age|SibSp|Parch|      Ticket|    Fare|      Cabin|Embarked|\n",
      "+-----------+--------+------+--------------------+------+----+-----+-----+------------+--------+-----------+--------+\n",
      "|         28|       0|     1|Fortune, Mr. Char...|  male|19.0|    3|    2|       19950|   263.0|C23 C25 C27|       S|\n",
      "|         89|       1|     1|Fortune, Miss. Ma...|female|23.0|    3|    2|       19950|   263.0|C23 C25 C27|       S|\n",
      "|        119|       0|     1|Baxter, Mr. Quigg...|  male|24.0|    0|    1|    PC 17558|247.5208|    B58 B60|       C|\n",
      "|         32|       1|     1|Spencer, Mrs. Wil...|female|null|    1|    0|    PC 17569|146.5208|        B78|       C|\n",
      "|         63|       0|     1|Harris, Mr. Henry...|  male|45.0|    1|    0|       36973|  83.475|        C83|       S|\n",
      "|         35|       0|     1|Meyer, Mr. Edgar ...|  male|28.0|    1|    0|    PC 17604| 82.1708|       null|       C|\n",
      "|         62|       1|     1| Icard, Miss. Amelie|female|38.0|    0|    0|      113572|    80.0|        B28|    null|\n",
      "|        140|       0|     1|  Giglio, Mr. Victor|  male|24.0|    0|    0|    PC 17593|    79.2|        B86|       C|\n",
      "|        103|       0|     1|White, Mr. Richar...|  male|21.0|    0|    1|       35281| 77.2875|        D26|       S|\n",
      "|        125|       0|     1|White, Mr. Perciv...|  male|54.0|    0|    1|       35281| 77.2875|        D26|       S|\n",
      "|         53|       1|     1|Harper, Mrs. Henr...|female|49.0|    1|    0|    PC 17572| 76.7292|        D33|       C|\n",
      "|         73|       0|     2|Hood, Mr. Ambrose Jr|  male|21.0|    0|    0|S.O.C. 14879|    73.5|       null|       S|\n",
      "|        121|       0|     2|Hickman, Mr. Stan...|  male|21.0|    2|    0|S.O.C. 14879|    73.5|       null|       S|\n",
      "|          2|       1|     1|Cumings, Mrs. Joh...|female|38.0|    1|    0|    PC 17599| 71.2833|        C85|       C|\n",
      "|        152|       1|     1|Pears, Mrs. Thoma...|female|22.0|    1|    0|      113776|    66.6|         C2|       S|\n",
      "|         98|       1|     1|Greenfield, Mr. W...|  male|23.0|    0|    1|    PC 17759| 63.3583|    D10 D12|       C|\n",
      "|         55|       0|     1|Ostby, Mr. Engelh...|  male|65.0|    0|    1|      113509| 61.9792|        B30|       C|\n",
      "|        156|       0|     1|Williams, Mr. Cha...|  male|51.0|    0|    1|    PC 17597| 61.3792|       null|       C|\n",
      "|         93|       0|     1|Chaffee, Mr. Herb...|  male|46.0|    1|    0| W.E.P. 5734|  61.175|        E31|       S|\n",
      "|         75|       1|     3|       Bing, Mr. Lee|  male|32.0|    0|    0|        1601| 56.4958|       null|       S|\n",
      "+-----------+--------+------+--------------------+------+----+-----+-----+------------+--------+-----------+--------+\n",
      "only showing top 20 rows\n",
      "\n"
     ]
    }
   ],
   "source": [
    "df.orderBy(df['Fare'].desc()).show()"
   ]
  },
  {
   "cell_type": "markdown",
   "metadata": {},
   "source": [
    "### Special Functions MEAN, COUNTDISTINCT"
   ]
  },
  {
   "cell_type": "code",
   "execution_count": 12,
   "metadata": {},
   "outputs": [],
   "source": [
    "from pyspark.sql.functions import mean, countDistinct"
   ]
  },
  {
   "cell_type": "code",
   "execution_count": 13,
   "metadata": {},
   "outputs": [
    {
     "name": "stdout",
     "output_type": "stream",
     "text": [
      "+------------------+\n",
      "|       Average Age|\n",
      "+------------------+\n",
      "|28.141507936507935|\n",
      "+------------------+\n",
      "\n"
     ]
    }
   ],
   "source": [
    "df.select(mean('age').alias(\"Average Age\")).show()"
   ]
  },
  {
   "cell_type": "code",
   "execution_count": 14,
   "metadata": {},
   "outputs": [
    {
     "name": "stdout",
     "output_type": "stream",
     "text": [
      "+-------------------+\n",
      "|count(DISTINCT Sex)|\n",
      "+-------------------+\n",
      "|                  2|\n",
      "+-------------------+\n",
      "\n"
     ]
    }
   ],
   "source": [
    "df.select(countDistinct(\"Sex\")).show()"
   ]
  },
  {
   "cell_type": "code",
   "execution_count": 15,
   "metadata": {},
   "outputs": [
    {
     "name": "stdout",
     "output_type": "stream",
     "text": [
      "+-------------------+\n",
      "|count(DISTINCT Age)|\n",
      "+-------------------+\n",
      "|                 56|\n",
      "+-------------------+\n",
      "\n"
     ]
    }
   ],
   "source": [
    "df.select(countDistinct(\"Age\")).show()"
   ]
  }
 ],
 "metadata": {
  "kernelspec": {
   "display_name": "Python 3",
   "language": "python",
   "name": "python3"
  },
  "language_info": {
   "codemirror_mode": {
    "name": "ipython",
    "version": 3
   },
   "file_extension": ".py",
   "mimetype": "text/x-python",
   "name": "python",
   "nbconvert_exporter": "python",
   "pygments_lexer": "ipython3",
   "version": "3.7.7"
  }
 },
 "nbformat": 4,
 "nbformat_minor": 4
}
