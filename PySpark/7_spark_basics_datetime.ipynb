{
 "cells": [
  {
   "cell_type": "code",
   "execution_count": 31,
   "metadata": {},
   "outputs": [],
   "source": [
    "from pyspark.sql import SparkSession\n",
    "from pyspark.sql.types import StructField, StructType, StringType, IntegerType, DateType\n",
    "from pyspark.sql.functions import dayofmonth, hour, dayofyear, month, year, weekofyear"
   ]
  },
  {
   "cell_type": "code",
   "execution_count": 32,
   "metadata": {},
   "outputs": [],
   "source": [
    "spark = SparkSession.builder  \\\n",
    "        .appName(\"Date Time\") \\\n",
    "        .getOrCreate()"
   ]
  },
  {
   "cell_type": "code",
   "execution_count": 33,
   "metadata": {},
   "outputs": [],
   "source": [
    "schema = StructType([StructField(\"Date\", DateType(), True)])"
   ]
  },
  {
   "cell_type": "code",
   "execution_count": 34,
   "metadata": {},
   "outputs": [],
   "source": [
    "df = spark.read.csv('stock-data.csv', inferSchema=True, header=True, schema=schema)"
   ]
  },
  {
   "cell_type": "code",
   "execution_count": 35,
   "metadata": {},
   "outputs": [
    {
     "name": "stdout",
     "output_type": "stream",
     "text": [
      "root\n",
      " |-- Date: date (nullable = true)\n",
      "\n"
     ]
    }
   ],
   "source": [
    "df.printSchema()"
   ]
  },
  {
   "cell_type": "code",
   "execution_count": 36,
   "metadata": {},
   "outputs": [
    {
     "name": "stdout",
     "output_type": "stream",
     "text": [
      "+----------+\n",
      "|      Date|\n",
      "+----------+\n",
      "|2018-02-28|\n",
      "|2018-02-27|\n",
      "|2018-02-26|\n",
      "|2018-02-25|\n",
      "|2018-02-24|\n",
      "|2018-02-23|\n",
      "|2018-02-22|\n",
      "|2018-02-21|\n",
      "|2018-02-20|\n",
      "|2018-02-19|\n",
      "|2018-02-18|\n",
      "|2018-02-17|\n",
      "+----------+\n",
      "\n"
     ]
    }
   ],
   "source": [
    "df.select('Date').show()"
   ]
  },
  {
   "cell_type": "code",
   "execution_count": 37,
   "metadata": {},
   "outputs": [
    {
     "name": "stdout",
     "output_type": "stream",
     "text": [
      "+----------+\n",
      "|hour(Date)|\n",
      "+----------+\n",
      "|         0|\n",
      "|         0|\n",
      "|         0|\n",
      "|         0|\n",
      "|         0|\n",
      "|         0|\n",
      "|         0|\n",
      "|         0|\n",
      "|         0|\n",
      "|         0|\n",
      "|         0|\n",
      "|         0|\n",
      "+----------+\n",
      "\n"
     ]
    }
   ],
   "source": [
    "df.select(hour('Date')).show()"
   ]
  },
  {
   "cell_type": "code",
   "execution_count": 38,
   "metadata": {},
   "outputs": [
    {
     "name": "stdout",
     "output_type": "stream",
     "text": [
      "+----------------+\n",
      "|dayofmonth(Date)|\n",
      "+----------------+\n",
      "|              28|\n",
      "|              27|\n",
      "|              26|\n",
      "|              25|\n",
      "|              24|\n",
      "|              23|\n",
      "|              22|\n",
      "|              21|\n",
      "|              20|\n",
      "|              19|\n",
      "|              18|\n",
      "|              17|\n",
      "+----------------+\n",
      "\n"
     ]
    }
   ],
   "source": [
    "df.select(dayofmonth('Date')).show()"
   ]
  },
  {
   "cell_type": "code",
   "execution_count": 39,
   "metadata": {},
   "outputs": [
    {
     "name": "stdout",
     "output_type": "stream",
     "text": [
      "+----------+-----------+\n",
      "|      Date|Day of year|\n",
      "+----------+-----------+\n",
      "|2018-02-28|         59|\n",
      "|2018-02-27|         58|\n",
      "|2018-02-26|         57|\n",
      "|2018-02-25|         56|\n",
      "|2018-02-24|         55|\n",
      "|2018-02-23|         54|\n",
      "|2018-02-22|         53|\n",
      "|2018-02-21|         52|\n",
      "|2018-02-20|         51|\n",
      "|2018-02-19|         50|\n",
      "|2018-02-18|         49|\n",
      "|2018-02-17|         48|\n",
      "+----------+-----------+\n",
      "\n"
     ]
    }
   ],
   "source": [
    "df.withColumn(\"Day of year\", dayofyear('date')).show()"
   ]
  },
  {
   "cell_type": "code",
   "execution_count": 46,
   "metadata": {},
   "outputs": [
    {
     "name": "stdout",
     "output_type": "stream",
     "text": [
      "+----------+\n",
      "|      Date|\n",
      "+----------+\n",
      "|2018-02-28|\n",
      "|2018-02-27|\n",
      "|2018-02-26|\n",
      "|2018-02-25|\n",
      "+----------+\n",
      "\n"
     ]
    }
   ],
   "source": [
    "df.filter(dayofmonth('Date') >= 25).show()"
   ]
  },
  {
   "cell_type": "code",
   "execution_count": null,
   "metadata": {},
   "outputs": [],
   "source": []
  }
 ],
 "metadata": {
  "kernelspec": {
   "display_name": "Python 3",
   "language": "python",
   "name": "python3"
  },
  "language_info": {
   "codemirror_mode": {
    "name": "ipython",
    "version": 3
   },
   "file_extension": ".py",
   "mimetype": "text/x-python",
   "name": "python",
   "nbconvert_exporter": "python",
   "pygments_lexer": "ipython3",
   "version": "3.7.7"
  }
 },
 "nbformat": 4,
 "nbformat_minor": 4
}
